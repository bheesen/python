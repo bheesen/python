{
 "cells": [
  {
   "cell_type": "markdown",
   "id": "d85e859c-3945-451a-95bd-aee46396c078",
   "metadata": {},
   "source": [
    "# Dies ist mein erstes Programm\n",
    "Ich zeige hier, wie in Jupyter Notebook Markdown-Zellen mit Code-Zellen kombiniert werden können."
   ]
  },
  {
   "cell_type": "markdown",
   "id": "317c032e-2afe-466a-bcd6-683452fa03bf",
   "metadata": {},
   "source": [
    "## Dies ist eine Unterüberschrift\n",
    "Der Level einer Überschrift wird durch die Anzahl der # festgelegt"
   ]
  },
  {
   "cell_type": "code",
   "execution_count": 8,
   "id": "fabd453c-3b54-4124-9463-82fda1904364",
   "metadata": {},
   "outputs": [
    {
     "name": "stdout",
     "output_type": "stream",
     "text": [
      "Hochschule Ansbach\n"
     ]
    }
   ],
   "source": [
    "print(\"Hochschule Ansbach\")"
   ]
  },
  {
   "cell_type": "markdown",
   "id": "e88ebb7b-04f1-4c66-a250-ba472246ea38",
   "metadata": {},
   "source": [
    "## Dies ist das Ende des Programms\n",
    "So könnte ein Jupyter Notebook gestaltet werden."
   ]
  }
 ],
 "metadata": {
  "kernelspec": {
   "display_name": "Python 3 (ipykernel)",
   "language": "python",
   "name": "python3"
  },
  "language_info": {
   "codemirror_mode": {
    "name": "ipython",
    "version": 3
   },
   "file_extension": ".py",
   "mimetype": "text/x-python",
   "name": "python",
   "nbconvert_exporter": "python",
   "pygments_lexer": "ipython3",
   "version": "3.11.7"
  }
 },
 "nbformat": 4,
 "nbformat_minor": 5
}
