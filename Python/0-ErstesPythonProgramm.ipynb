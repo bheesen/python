{
 "cells": [
  {
   "cell_type": "markdown",
   "id": "d85e859c-3945-451a-95bd-aee46396c078",
   "metadata": {},
   "source": [
    "# Dies ist mein erstes Programm\n",
    "Ich zeige hier, wie in Jupyter Notebook Markdown-Zellen mit Code-Zellen kombiniert werden können."
   ]
  },
  {
   "cell_type": "code",
   "execution_count": null,
   "id": "8b5103ee-b473-49bf-b237-65cf07688bd3",
   "metadata": {},
   "outputs": [],
   "source": [
    "## Dies ist eine Unterüberschrift\n",
    "Der Level einer Überschrift wird durch die Anzahl der \"#\" festgelegt"
   ]
  },
  {
   "cell_type": "code",
   "execution_count": 1,
   "id": "fabd453c-3b54-4124-9463-82fda1904364",
   "metadata": {},
   "outputs": [
    {
     "name": "stdout",
     "output_type": "stream",
     "text": [
      "Hochschule Ansbach\n"
     ]
    }
   ],
   "source": [
    "print(\"Hochschule Ansbach\")"
   ]
  },
  {
   "cell_type": "code",
   "execution_count": null,
   "id": "05655e15-d215-4ee7-90cf-b7801e5a039e",
   "metadata": {},
   "outputs": [],
   "source": [
    "## Dies ist das Ende des Programms\n",
    "So könnte ein Jupyter Notebook gestaltet werden."
   ]
  }
 ],
 "metadata": {
  "kernelspec": {
   "display_name": "Python 3 (ipykernel)",
   "language": "python",
   "name": "python3"
  },
  "language_info": {
   "codemirror_mode": {
    "name": "ipython",
    "version": 3
   },
   "file_extension": ".py",
   "mimetype": "text/x-python",
   "name": "python",
   "nbconvert_exporter": "python",
   "pygments_lexer": "ipython3",
   "version": "3.11.7"
  }
 },
 "nbformat": 4,
 "nbformat_minor": 5
}
